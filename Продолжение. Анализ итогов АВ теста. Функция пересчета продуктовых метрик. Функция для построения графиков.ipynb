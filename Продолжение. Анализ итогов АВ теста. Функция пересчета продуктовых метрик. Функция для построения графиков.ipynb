{
 "cells": [
  {
   "cell_type": "code",
   "execution_count": 1,
   "metadata": {},
   "outputs": [],
   "source": [
    "# Импорт библиотек\n",
    "import pandas as pd\n",
    "import seaborn as sns\n",
    "import matplotlib.pyplot as plt\n",
    "%matplotlib inline"
   ]
  },
  {
   "cell_type": "markdown",
   "metadata": {},
   "source": [
    "# Реализация функции, которая будет автоматически подгружать информацию из дополнительного файла groups_add.csv и на основании дополнительных параметров пересчитывать метрики:\n",
    "\n",
    "Средний чек на всех пользователей - ARPU, \n",
    "\n",
    "Средний чек на активных пользователей - ARPAU, \n",
    "\n",
    "Конверсия в покупку всех пользователей, \n",
    "\n",
    "Конверсия в покупку активных пользователей."
   ]
  },
  {
   "cell_type": "code",
   "execution_count": 2,
   "metadata": {},
   "outputs": [],
   "source": [
    "# Загружаю данные\n",
    "\n",
    "# Информация о принадлежности пользователя к контрольной или экспериментальной группе\n",
    "groups = pd.read_csv('https://getfile.dokpub.com/yandex/get/https://disk.yandex.ru/d/Y2Uxx7pkplu7WQ', sep=';')\n",
    "\n",
    "# Дополнительный файл с пользователями, который прислали спустя 2 дня после передачи данных\n",
    "groups_add = pd.read_csv('https://getfile.dokpub.com/yandex/get/https://disk.yandex.ru/d/PM8gm7EU7FVWPg', sep=',')\n",
    "\n",
    "# Информация о пользователях, которые зашли на платформу в дни проведения эксперимента\n",
    "active_users = pd.read_csv('https://getfile.dokpub.com/yandex/get/https://disk.yandex.ru/d/b1UCahpVw1T_1g')\n",
    "\n",
    "# Информация об оплатах пользователей в дни проведения эксперимента\n",
    "checks = pd.read_csv('https://getfile.dokpub.com/yandex/get/https://disk.yandex.ru/d/QGMD0lDBr70lsA', sep=';')"
   ]
  },
  {
   "cell_type": "code",
   "execution_count": 3,
   "metadata": {},
   "outputs": [],
   "source": [
    "def func(groups, groups_add, active_users, checks):\n",
    "    \"\"\"\n",
    "    Функция:\n",
    "    Добавляет файл с пользователями, который прислали спустя 2 дня после передачи данных;\n",
    "    Переименовывает колонки к единому имени;\n",
    "    Собирает датафрейм из всех файлов с метками оплат и активности, заменяет пустые значения нулями;\n",
    "    Считает метрики из условия задачи;\n",
    "    Формирует датафрейм в порядке полей с информацией о кол-ве классификаций пользователей и их метрики\n",
    "    \"\"\"\n",
    "    \n",
    "    # Добавление дополнительного файла, который прислали спустя 2 дня после передачи данных\n",
    "    groups_users = pd.concat([groups, groups_add], ignore_index=True)\n",
    "\n",
    "    # Переименование колонок для мерджа\n",
    "    active_users.rename(columns={'student_id': 'id'}, inplace=True)\n",
    "    checks.rename(columns={'student_id': 'id'}, inplace=True)\n",
    "\n",
    "    # Формирую метку о наличии оплаты\n",
    "    checks['payment'] = 1\n",
    "    \n",
    "    # Соединяю всех активных со всеми оплатами\n",
    "    active = active_users.merge(checks, how='outer', on='id')\n",
    "    \n",
    "    # Формирую метку активности\n",
    "    active['activity'] = 1\n",
    "    \n",
    "    total = groups_users.merge(active, how='left', on='id')\n",
    "    \n",
    "    # Заменяю NaN на нули\n",
    "    total = total.fillna(0)\n",
    "    \n",
    "    # Средний чек на всех пользователей\n",
    "    ARPU = total.groupby('grp', as_index=False) \\\n",
    "        .agg({'rev': 'mean'}) \\\n",
    "        .rename(columns={'rev': 'ARPU'}) \\\n",
    "        .round(2)\n",
    "    \n",
    "    # Средний чек активных\n",
    "    ARPAU = total.query('activity == 1') \\\n",
    "        .groupby('grp', as_index=False) \\\n",
    "        .agg({'rev': 'mean'}) \\\n",
    "        .rename(columns={'rev': 'ARPAU'}) \\\n",
    "        .round(2)\n",
    "    \n",
    "    # Конверсия в покупку от всех пользователей\n",
    "    cr = total.groupby('grp', as_index=False) \\\n",
    "        .agg({'payment': 'sum', 'rev': 'count'}) \\\n",
    "        .rename(columns={'rev': 'users'})\n",
    "    cr['CR'] = round((cr.payment / cr.users), 4)\n",
    "    \n",
    "    # Конверсия в покупку активных\n",
    "    cr_act = total.groupby('grp', as_index=False) \\\n",
    "        .agg({'payment': 'sum', 'activity': 'sum'}) \\\n",
    "        .rename(columns={'activity': 'active_users'})\n",
    "    cr_act['CR_active'] = round((cr_act.payment / cr_act.active_users), 4)\n",
    "    \n",
    "    metrics = pd.concat([cr[['grp', 'users']], \n",
    "                         cr_act[['active_users', 'payment']], \n",
    "                         ARPU[['ARPU']], \n",
    "                         ARPAU[['ARPAU']], \n",
    "                         cr[['CR']], \n",
    "                         cr_act[['CR_active']]], \n",
    "                        axis=1)\n",
    "\n",
    "    return (metrics)"
   ]
  },
  {
   "cell_type": "code",
   "execution_count": 4,
   "metadata": {},
   "outputs": [
    {
     "data": {
      "text/plain": [
       "'\\n    Функция:\\n    Добавляет файл с пользователями, который прислали спустя 2 дня после передачи данных;\\n    Переименовывает колонки к единому имени;\\n    Собирает датафрейм из всех файлов с метками оплат и активности, заменяет пустые значения нулями;\\n    Считает метрики из условия задачи;\\n    Формирует датафрейм в порядке полей с информацией о кол-ве классификаций пользователей и их метрики\\n    '"
      ]
     },
     "execution_count": 4,
     "metadata": {},
     "output_type": "execute_result"
    }
   ],
   "source": [
    "func.__doc__"
   ]
  },
  {
   "cell_type": "code",
   "execution_count": 5,
   "metadata": {},
   "outputs": [
    {
     "data": {
      "text/html": [
       "<div>\n",
       "<style scoped>\n",
       "    .dataframe tbody tr th:only-of-type {\n",
       "        vertical-align: middle;\n",
       "    }\n",
       "\n",
       "    .dataframe tbody tr th {\n",
       "        vertical-align: top;\n",
       "    }\n",
       "\n",
       "    .dataframe thead th {\n",
       "        text-align: right;\n",
       "    }\n",
       "</style>\n",
       "<table border=\"1\" class=\"dataframe\">\n",
       "  <thead>\n",
       "    <tr style=\"text-align: right;\">\n",
       "      <th></th>\n",
       "      <th>grp</th>\n",
       "      <th>users</th>\n",
       "      <th>active_users</th>\n",
       "      <th>payment</th>\n",
       "      <th>ARPU</th>\n",
       "      <th>ARPAU</th>\n",
       "      <th>CR</th>\n",
       "      <th>CR_active</th>\n",
       "    </tr>\n",
       "  </thead>\n",
       "  <tbody>\n",
       "    <tr>\n",
       "      <th>0</th>\n",
       "      <td>A</td>\n",
       "      <td>14693</td>\n",
       "      <td>1567.0</td>\n",
       "      <td>107.0</td>\n",
       "      <td>6.27</td>\n",
       "      <td>58.77</td>\n",
       "      <td>0.0073</td>\n",
       "      <td>0.0683</td>\n",
       "    </tr>\n",
       "    <tr>\n",
       "      <th>1</th>\n",
       "      <td>B</td>\n",
       "      <td>59883</td>\n",
       "      <td>6923.0</td>\n",
       "      <td>434.0</td>\n",
       "      <td>8.04</td>\n",
       "      <td>69.51</td>\n",
       "      <td>0.0072</td>\n",
       "      <td>0.0627</td>\n",
       "    </tr>\n",
       "  </tbody>\n",
       "</table>\n",
       "</div>"
      ],
      "text/plain": [
       "  grp  users  active_users  payment  ARPU  ARPAU      CR  CR_active\n",
       "0   A  14693        1567.0    107.0  6.27  58.77  0.0073     0.0683\n",
       "1   B  59883        6923.0    434.0  8.04  69.51  0.0072     0.0627"
      ]
     },
     "execution_count": 5,
     "metadata": {},
     "output_type": "execute_result"
    }
   ],
   "source": [
    "func(groups, groups_add, active_users, checks)"
   ]
  },
  {
   "cell_type": "markdown",
   "metadata": {},
   "source": [
    "# Реализация функции, которая будет строить графики по получаемым метрикам."
   ]
  },
  {
   "cell_type": "code",
   "execution_count": 6,
   "metadata": {},
   "outputs": [
    {
     "data": {
      "image/png": "[encoded data removed]",
      "text/plain": [
       "<Figure size 1440x864 with 4 Axes>"
      ]
     },
     "metadata": {},
     "output_type": "display_data"
    }
   ],
   "source": [
    "# Постороение графиков: установка размера, расположение сеткой, назначение заголовков, вывод барплотов\n",
    "def charts(metrics):\n",
    "    \"\"\"\n",
    "    Функция:\n",
    "    Строит графики по посчитанным выше метрикам: CR, CR_active, ARPU, ARPAU;\n",
    "    Устанавливает размер графиков и их расположение сеткой;\n",
    "    Подписывает графики заголовками\n",
    "    \"\"\"\n",
    "    \n",
    "    sns.set(rc={'figure.figsize': (20, 12)})\n",
    "    fig = plt.figure()\n",
    "    fig.subplots_adjust(hspace=0.4, wspace=0.4)\n",
    "    fig.add_subplot(2, 2, 1)\n",
    "    plt.title('Конверсия в покупку всех пользователей')\n",
    "    sns.barplot(data=metrics, x='grp', y='CR').set_ylim(0, 0.07)\n",
    "    fig.add_subplot(2, 2, 2)\n",
    "    plt.title('Конверсия в покупку активных пользователей')\n",
    "    sns.barplot(data=metrics, x='grp', y='CR_active').set_ylim(0, 0.07)\n",
    "    fig.add_subplot(2, 2, 3)\n",
    "    plt.title('Средний чек на всех пользователей')\n",
    "    sns.barplot(data=metrics, x='grp', y='ARPU').set_ylim(0, 100)\n",
    "    fig.add_subplot(2, 2, 4)\n",
    "    plt.title('Средний чек на активных пользователей')\n",
    "    sns.barplot(data=metrics, x='grp', y='ARPAU').set_ylim(0, 100)\n",
    "    \n",
    "    \n",
    "charts(func(groups, groups_add, active_users, checks))"
   ]
  },
  {
   "cell_type": "code",
   "execution_count": 7,
   "metadata": {},
   "outputs": [
    {
     "data": {
      "text/plain": [
       "'\\n    Функция:\\n    Строит графики по посчитанным выше метрикам: CR, CR_active, ARPU, ARPAU;\\n    Устанавливает размер графиков и их расположение сеткой;\\n    Подписывает графики заголовками\\n    '"
      ]
     },
     "execution_count": 7,
     "metadata": {},
     "output_type": "execute_result"
    }
   ],
   "source": [
    "charts.__doc__"
   ]
  },
  {
   "cell_type": "code",
   "execution_count": null,
   "metadata": {},
   "outputs": [],
   "source": []
  }
 ],
 "metadata": {
  "kernelspec": {
   "display_name": "Python 3 (ipykernel)",
   "language": "python",
   "name": "python3"
  },
  "language_info": {
   "codemirror_mode": {
    "name": "ipython",
    "version": 3
   },
   "file_extension": ".py",
   "mimetype": "text/x-python",
   "name": "python",
   "nbconvert_exporter": "python",
   "pygments_lexer": "ipython3",
   "version": "3.9.7"
  }
 },
 "nbformat": 4,
 "nbformat_minor": 4
}
